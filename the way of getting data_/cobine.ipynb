{
 "cells": [
  {
   "cell_type": "code",
   "execution_count": 1,
   "metadata": {},
   "outputs": [],
   "source": [
    "import sqlite3"
   ]
  },
  {
   "cell_type": "code",
   "execution_count": 48,
   "metadata": {},
   "outputs": [],
   "source": [
    "con = sqlite3.connect('../data/rawdata/Reddit_comments.db')\n",
    "cur = con.cursor()\n",
    "count=0\n",
    "parent_list = list()\n",
    "comment_list = list()\n",
    "subreddit_list = list()\n",
    "\n",
    "for row in cur.execute('SELECT pcomment, comment, subreddit FROM rc;'):\n",
    "    if row[0] != None:\n",
    "        parent_list.append(row[0])\n",
    "        comment_list.append(row[1])\n",
    "        subreddit_list.append(row[2])\n",
    "\n",
    "con.close()"
   ]
  },
  {
   "cell_type": "code",
   "execution_count": 67,
   "metadata": {},
   "outputs": [],
   "source": [
    "import pandas as pd\n",
    "data = dict()\n",
    "data['comment'] = parent_list\n",
    "data['reply'] = comment_list\n",
    "data['subreddit'] = subreddit_list\n",
    "\n",
    "df = pd.DataFrame(data)"
   ]
  },
  {
   "cell_type": "code",
   "execution_count": 68,
   "metadata": {},
   "outputs": [
    {
     "data": {
      "text/html": [
       "<div>\n",
       "<style scoped>\n",
       "    .dataframe tbody tr th:only-of-type {\n",
       "        vertical-align: middle;\n",
       "    }\n",
       "\n",
       "    .dataframe tbody tr th {\n",
       "        vertical-align: top;\n",
       "    }\n",
       "\n",
       "    .dataframe thead th {\n",
       "        text-align: right;\n",
       "    }\n",
       "</style>\n",
       "<table border=\"1\" class=\"dataframe\">\n",
       "  <thead>\n",
       "    <tr style=\"text-align: right;\">\n",
       "      <th></th>\n",
       "      <th>comment</th>\n",
       "      <th>reply</th>\n",
       "      <th>subreddit</th>\n",
       "    </tr>\n",
       "  </thead>\n",
       "  <tbody>\n",
       "    <tr>\n",
       "      <th>0</th>\n",
       "      <td>Yeah, probably.</td>\n",
       "      <td>If she can't say yes on the spot, I'd legit re...</td>\n",
       "      <td>AskMen</td>\n",
       "    </tr>\n",
       "    <tr>\n",
       "      <th>1</th>\n",
       "      <td>I legitimately have no idea what's going on, b...</td>\n",
       "      <td>Me neither</td>\n",
       "      <td>twitchplayspokemon</td>\n",
       "    </tr>\n",
       "    <tr>\n",
       "      <th>2</th>\n",
       "      <td>And sorta not really even a doctor.</td>\n",
       "      <td>He was a great Dr. Just not for humans.</td>\n",
       "      <td>WTF</td>\n",
       "    </tr>\n",
       "    <tr>\n",
       "      <th>3</th>\n",
       "      <td>So, fat dudes and feminists wanted to circleje...</td>\n",
       "      <td>That's offensive to any normal fat guy.</td>\n",
       "      <td>TumblrInAction</td>\n",
       "    </tr>\n",
       "    <tr>\n",
       "      <th>4</th>\n",
       "      <td>If that epiphany ever comes, we probably won't...</td>\n",
       "      <td>We'll see a lack of rants.</td>\n",
       "      <td>anime</td>\n",
       "    </tr>\n",
       "  </tbody>\n",
       "</table>\n",
       "</div>"
      ],
      "text/plain": [
       "                                             comment  \\\n",
       "0                                   Yeah, probably.    \n",
       "1  I legitimately have no idea what's going on, b...   \n",
       "2                And sorta not really even a doctor.   \n",
       "3  So, fat dudes and feminists wanted to circleje...   \n",
       "4  If that epiphany ever comes, we probably won't...   \n",
       "\n",
       "                                               reply           subreddit  \n",
       "0  If she can't say yes on the spot, I'd legit re...              AskMen  \n",
       "1                                         Me neither  twitchplayspokemon  \n",
       "2          He was a great Dr. Just not for humans.                   WTF  \n",
       "3            That's offensive to any normal fat guy.      TumblrInAction  \n",
       "4                         We'll see a lack of rants.               anime  "
      ]
     },
     "execution_count": 68,
     "metadata": {},
     "output_type": "execute_result"
    }
   ],
   "source": [
    "df.head()"
   ]
  },
  {
   "cell_type": "code",
   "execution_count": 69,
   "metadata": {},
   "outputs": [
    {
     "data": {
      "text/plain": [
       "(2024269, 3)"
      ]
     },
     "execution_count": 69,
     "metadata": {},
     "output_type": "execute_result"
    }
   ],
   "source": [
    "df.shape"
   ]
  },
  {
   "cell_type": "code",
   "execution_count": 70,
   "metadata": {},
   "outputs": [
    {
     "data": {
      "text/html": [
       "<div>\n",
       "<style scoped>\n",
       "    .dataframe tbody tr th:only-of-type {\n",
       "        vertical-align: middle;\n",
       "    }\n",
       "\n",
       "    .dataframe tbody tr th {\n",
       "        vertical-align: top;\n",
       "    }\n",
       "\n",
       "    .dataframe thead th {\n",
       "        text-align: right;\n",
       "    }\n",
       "</style>\n",
       "<table border=\"1\" class=\"dataframe\">\n",
       "  <thead>\n",
       "    <tr style=\"text-align: right;\">\n",
       "      <th></th>\n",
       "      <th>comment</th>\n",
       "      <th>reply</th>\n",
       "      <th>subreddit</th>\n",
       "    </tr>\n",
       "  </thead>\n",
       "  <tbody>\n",
       "    <tr>\n",
       "      <th>0</th>\n",
       "      <td>I got downvoted for saying this on a tiktok post</td>\n",
       "      <td>Just report videos that break rules.  Mods wil...</td>\n",
       "      <td>Whatcouldgowrong</td>\n",
       "    </tr>\n",
       "    <tr>\n",
       "      <th>1</th>\n",
       "      <td>Fairly new to all this, so I apologise in adva...</td>\n",
       "      <td>A plug is to advertise for something usually f...</td>\n",
       "      <td>Whatcouldgowrong</td>\n",
       "    </tr>\n",
       "    <tr>\n",
       "      <th>2</th>\n",
       "      <td>&gt; See Rule 7\\n\\nI see only six rules in the si...</td>\n",
       "      <td>Are you on old reddit?\\n\\nEdit: Updated the si...</td>\n",
       "      <td>Whatcouldgowrong</td>\n",
       "    </tr>\n",
       "    <tr>\n",
       "      <th>3</th>\n",
       "      <td>Any strong feelings on \"Challenge\" videos?\\n\\n...</td>\n",
       "      <td>These are usually removed, but the ones that g...</td>\n",
       "      <td>Whatcouldgowrong</td>\n",
       "    </tr>\n",
       "    <tr>\n",
       "      <th>4</th>\n",
       "      <td>Geeeezus christ... Rules for vids</td>\n",
       "      <td>What</td>\n",
       "      <td>Whatcouldgowrong</td>\n",
       "    </tr>\n",
       "  </tbody>\n",
       "</table>\n",
       "</div>"
      ],
      "text/plain": [
       "                                             comment  \\\n",
       "0   I got downvoted for saying this on a tiktok post   \n",
       "1  Fairly new to all this, so I apologise in adva...   \n",
       "2  > See Rule 7\\n\\nI see only six rules in the si...   \n",
       "3  Any strong feelings on \"Challenge\" videos?\\n\\n...   \n",
       "4                  Geeeezus christ... Rules for vids   \n",
       "\n",
       "                                               reply         subreddit  \n",
       "0  Just report videos that break rules.  Mods wil...  Whatcouldgowrong  \n",
       "1  A plug is to advertise for something usually f...  Whatcouldgowrong  \n",
       "2  Are you on old reddit?\\n\\nEdit: Updated the si...  Whatcouldgowrong  \n",
       "3  These are usually removed, but the ones that g...  Whatcouldgowrong  \n",
       "4                                               What  Whatcouldgowrong  "
      ]
     },
     "execution_count": 70,
     "metadata": {},
     "output_type": "execute_result"
    }
   ],
   "source": [
    "df_to = pd.read_csv('../data/totaldata.csv')\n",
    "df_to.head()"
   ]
  },
  {
   "cell_type": "code",
   "execution_count": 71,
   "metadata": {},
   "outputs": [
    {
     "data": {
      "text/plain": [
       "(1091571, 3)"
      ]
     },
     "execution_count": 71,
     "metadata": {},
     "output_type": "execute_result"
    }
   ],
   "source": [
    "df_to.shape"
   ]
  },
  {
   "cell_type": "code",
   "execution_count": 72,
   "metadata": {},
   "outputs": [],
   "source": [
    "df_all = df_to.append(df)"
   ]
  },
  {
   "cell_type": "code",
   "execution_count": 73,
   "metadata": {},
   "outputs": [
    {
     "data": {
      "text/plain": [
       "(3115840, 3)"
      ]
     },
     "execution_count": 73,
     "metadata": {},
     "output_type": "execute_result"
    }
   ],
   "source": [
    "df_all.shape"
   ]
  },
  {
   "cell_type": "code",
   "execution_count": 75,
   "metadata": {},
   "outputs": [
    {
     "data": {
      "text/html": [
       "<div>\n",
       "<style scoped>\n",
       "    .dataframe tbody tr th:only-of-type {\n",
       "        vertical-align: middle;\n",
       "    }\n",
       "\n",
       "    .dataframe tbody tr th {\n",
       "        vertical-align: top;\n",
       "    }\n",
       "\n",
       "    .dataframe thead th {\n",
       "        text-align: right;\n",
       "    }\n",
       "</style>\n",
       "<table border=\"1\" class=\"dataframe\">\n",
       "  <thead>\n",
       "    <tr style=\"text-align: right;\">\n",
       "      <th></th>\n",
       "      <th>comment</th>\n",
       "      <th>reply</th>\n",
       "      <th>subreddit</th>\n",
       "    </tr>\n",
       "  </thead>\n",
       "  <tbody>\n",
       "    <tr>\n",
       "      <th>0</th>\n",
       "      <td>I got downvoted for saying this on a tiktok post</td>\n",
       "      <td>Just report videos that break rules.  Mods wil...</td>\n",
       "      <td>Whatcouldgowrong</td>\n",
       "    </tr>\n",
       "    <tr>\n",
       "      <th>1</th>\n",
       "      <td>Fairly new to all this, so I apologise in adva...</td>\n",
       "      <td>A plug is to advertise for something usually f...</td>\n",
       "      <td>Whatcouldgowrong</td>\n",
       "    </tr>\n",
       "    <tr>\n",
       "      <th>2</th>\n",
       "      <td>&gt; See Rule 7\\n\\nI see only six rules in the si...</td>\n",
       "      <td>Are you on old reddit?\\n\\nEdit: Updated the si...</td>\n",
       "      <td>Whatcouldgowrong</td>\n",
       "    </tr>\n",
       "    <tr>\n",
       "      <th>3</th>\n",
       "      <td>Any strong feelings on \"Challenge\" videos?\\n\\n...</td>\n",
       "      <td>These are usually removed, but the ones that g...</td>\n",
       "      <td>Whatcouldgowrong</td>\n",
       "    </tr>\n",
       "    <tr>\n",
       "      <th>4</th>\n",
       "      <td>Geeeezus christ... Rules for vids</td>\n",
       "      <td>What</td>\n",
       "      <td>Whatcouldgowrong</td>\n",
       "    </tr>\n",
       "    <tr>\n",
       "      <th>...</th>\n",
       "      <td>...</td>\n",
       "      <td>...</td>\n",
       "      <td>...</td>\n",
       "    </tr>\n",
       "    <tr>\n",
       "      <th>2024264</th>\n",
       "      <td>Looks like he gives a cite.</td>\n",
       "      <td>Thanks, so it's from the book 'A man on the mo...</td>\n",
       "      <td>Frisson</td>\n",
       "    </tr>\n",
       "    <tr>\n",
       "      <th>2024265</th>\n",
       "      <td>Can you somehow share this? I really like it a...</td>\n",
       "      <td>Hopefully this will work. Here's the rmskin  h...</td>\n",
       "      <td>Rainmeter</td>\n",
       "    </tr>\n",
       "    <tr>\n",
       "      <th>2024266</th>\n",
       "      <td>1644  robot that would be</td>\n",
       "      <td>1645  very helpful in preforming</td>\n",
       "      <td>counting</td>\n",
       "    </tr>\n",
       "    <tr>\n",
       "      <th>2024267</th>\n",
       "      <td>The store on the left is Cards Against Humanit...</td>\n",
       "      <td>Also they have your shipping address if you're...</td>\n",
       "      <td>pcmasterrace</td>\n",
       "    </tr>\n",
       "    <tr>\n",
       "      <th>2024268</th>\n",
       "      <td>I just said 'Oh my god' in quite possibly the ...</td>\n",
       "      <td>I was invited to help come up on stage with th...</td>\n",
       "      <td>Random_Acts_Of_Amazon</td>\n",
       "    </tr>\n",
       "  </tbody>\n",
       "</table>\n",
       "<p>3115840 rows × 3 columns</p>\n",
       "</div>"
      ],
      "text/plain": [
       "                                                   comment  \\\n",
       "0         I got downvoted for saying this on a tiktok post   \n",
       "1        Fairly new to all this, so I apologise in adva...   \n",
       "2        > See Rule 7\\n\\nI see only six rules in the si...   \n",
       "3        Any strong feelings on \"Challenge\" videos?\\n\\n...   \n",
       "4                        Geeeezus christ... Rules for vids   \n",
       "...                                                    ...   \n",
       "2024264                       Looks like he gives a cite.    \n",
       "2024265  Can you somehow share this? I really like it a...   \n",
       "2024266                          1644  robot that would be   \n",
       "2024267  The store on the left is Cards Against Humanit...   \n",
       "2024268  I just said 'Oh my god' in quite possibly the ...   \n",
       "\n",
       "                                                     reply  \\\n",
       "0        Just report videos that break rules.  Mods wil...   \n",
       "1        A plug is to advertise for something usually f...   \n",
       "2        Are you on old reddit?\\n\\nEdit: Updated the si...   \n",
       "3        These are usually removed, but the ones that g...   \n",
       "4                                                     What   \n",
       "...                                                    ...   \n",
       "2024264  Thanks, so it's from the book 'A man on the mo...   \n",
       "2024265  Hopefully this will work. Here's the rmskin  h...   \n",
       "2024266                   1645  very helpful in preforming   \n",
       "2024267  Also they have your shipping address if you're...   \n",
       "2024268  I was invited to help come up on stage with th...   \n",
       "\n",
       "                     subreddit  \n",
       "0             Whatcouldgowrong  \n",
       "1             Whatcouldgowrong  \n",
       "2             Whatcouldgowrong  \n",
       "3             Whatcouldgowrong  \n",
       "4             Whatcouldgowrong  \n",
       "...                        ...  \n",
       "2024264                Frisson  \n",
       "2024265              Rainmeter  \n",
       "2024266               counting  \n",
       "2024267           pcmasterrace  \n",
       "2024268  Random_Acts_Of_Amazon  \n",
       "\n",
       "[3115840 rows x 3 columns]"
      ]
     },
     "execution_count": 75,
     "metadata": {},
     "output_type": "execute_result"
    }
   ],
   "source": [
    "df_all"
   ]
  },
  {
   "cell_type": "code",
   "execution_count": 77,
   "metadata": {},
   "outputs": [],
   "source": [
    "df_all.to_csv('../data/allData.csv')"
   ]
  },
  {
   "cell_type": "code",
   "execution_count": null,
   "metadata": {},
   "outputs": [],
   "source": []
  }
 ],
 "metadata": {
  "kernelspec": {
   "display_name": "Python 3",
   "language": "python",
   "name": "python3"
  },
  "language_info": {
   "codemirror_mode": {
    "name": "ipython",
    "version": 3
   },
   "file_extension": ".py",
   "mimetype": "text/x-python",
   "name": "python",
   "nbconvert_exporter": "python",
   "pygments_lexer": "ipython3",
   "version": "3.8.5"
  }
 },
 "nbformat": 4,
 "nbformat_minor": 4
}
