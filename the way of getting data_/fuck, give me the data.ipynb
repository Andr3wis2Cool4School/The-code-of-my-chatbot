{
 "cells": [
  {
   "cell_type": "code",
   "execution_count": 1,
   "metadata": {},
   "outputs": [],
   "source": [
    "import numpy as np\n",
    "import pandas as pd \n",
    "import praw\n",
    "import redditinstance as redins"
   ]
  },
  {
   "cell_type": "code",
   "execution_count": 2,
   "metadata": {},
   "outputs": [],
   "source": [
    "subs1 = ['pokemon', 'dndmemes', 'Steam', 'PUBATTLEGROUNDS']\n",
    "subs2 = ['Twitch', 'NintendoSwitch']\n",
    "subs3 = ['movies', 'funny']\n",
    "subs4 = ['aww', 'PublicFreakout']\n",
    "subs5 = ['macOS', 'nextfuckinglevel']\n",
    "subs6 = [ 'computerscience', 'datascience', 'Wellthatsucks']\n",
    "subs7 = ['pics', 'wallstreetbets']\n",
    "subs8 = ['memes', 'videos']\n",
    "subs9 = ['gaming', 'Xqcow']\n",
    "subs10 = ['news', 'interestingasfuck']\n",
    "subs11 = ['deeplearning', 'Whatcouldgowrong']"
   ]
  },
  {
   "cell_type": "code",
   "execution_count": 3,
   "metadata": {},
   "outputs": [],
   "source": [
    "def get_reddit_data(subs):\n",
    "\n",
    "    comment_list = []\n",
    "    reply_list = []\n",
    "    subreddit_list = []\n",
    "    data = dict()\n",
    "    \n",
    "    for sub in subs:\n",
    "        subreddit = redins.reddit.subreddit(sub)\n",
    "        for submission in subreddit.hot(limit=10000):\n",
    "            submission.comments.replace_more(limit=None)\n",
    "            for top_level_comment in submission.comments:\n",
    "                if top_level_comment.replies:\n",
    "                    comment_list.append(top_level_comment.body)\n",
    "                    reply_list.append(top_level_comment.replies[0].body)\n",
    "                    subreddit_list.append(sub)\n",
    "                    \n",
    "    \n",
    "    data['comment'] = comment_list\n",
    "    data['reply'] = reply_list\n",
    "    data['subreddit'] = subreddit_list\n",
    "    \n",
    "    df = pd.DataFrame(data)\n",
    "    \n",
    "    print(df.info)\n",
    "    \n",
    "    return df"
   ]
  },
  {
   "cell_type": "code",
   "execution_count": 4,
   "metadata": {},
   "outputs": [],
   "source": [
    "# df_sub1 = get_reddit_data(subs1)"
   ]
  },
  {
   "cell_type": "code",
   "execution_count": 5,
   "metadata": {},
   "outputs": [],
   "source": [
    "#df_sub1.head()"
   ]
  },
  {
   "cell_type": "code",
   "execution_count": 6,
   "metadata": {},
   "outputs": [],
   "source": [
    "#df_sub1.to_csv('./data/sub1.csv', index=False)"
   ]
  },
  {
   "cell_type": "code",
   "execution_count": 7,
   "metadata": {},
   "outputs": [],
   "source": [
    "def get_reddit_data_by_sub(sub):\n",
    "    comment_list = []\n",
    "    reply_list = []\n",
    "    subreddit_list = []\n",
    "    data = dict()\n",
    "    \n",
    "    subreddit = redins.reddit.subreddit(sub)\n",
    "    for submission in subreddit.hot(limit=10000):\n",
    "        submission.comments.replace_more(limit=10000)\n",
    "        for top_level_comment in submission.comments:\n",
    "            if top_level_comment.replies:\n",
    "                comment_list.append(top_level_comment.body)\n",
    "                reply_list.append(top_level_comment.replies[0].body)\n",
    "                subreddit_list.append(sub)\n",
    "                    \n",
    "    data['comment'] = comment_list\n",
    "    data['reply'] = reply_list\n",
    "    data['subreddit'] = subreddit_list\n",
    "    \n",
    "    df = pd.DataFrame(data)\n",
    "    \n",
    "    print(df.shape)\n",
    "    \n",
    "    return df"
   ]
  },
  {
   "cell_type": "code",
   "execution_count": 22,
   "metadata": {},
   "outputs": [],
   "source": [
    "# df_Twitch = get_reddit_data_by_sub(subs2[0])\n",
    "# df_NintendoSwitch = get_reddit_data_by_sub(subs2[1])"
   ]
  },
  {
   "cell_type": "code",
   "execution_count": 24,
   "metadata": {},
   "outputs": [],
   "source": [
    "# df_Twitch.head()"
   ]
  },
  {
   "cell_type": "code",
   "execution_count": 25,
   "metadata": {},
   "outputs": [],
   "source": [
    "# df_NintendoSwitch.head()"
   ]
  },
  {
   "cell_type": "code",
   "execution_count": 26,
   "metadata": {},
   "outputs": [],
   "source": [
    "# df_subs2 = df_Twitch.append(df_NintendoSwitch)\n",
    "# df_subs2.shape"
   ]
  },
  {
   "cell_type": "code",
   "execution_count": 27,
   "metadata": {},
   "outputs": [],
   "source": [
    "# df_subs2.to_csv('./data/sub2.csv', index=False)"
   ]
  },
  {
   "cell_type": "code",
   "execution_count": 36,
   "metadata": {},
   "outputs": [],
   "source": [
    "# df_movies = get_reddit_data_by_sub(subs3[0])\n",
    "# df_funny = get_reddit_data_by_sub(subs3[1])"
   ]
  },
  {
   "cell_type": "code",
   "execution_count": 37,
   "metadata": {},
   "outputs": [],
   "source": [
    "# df_movies.head()"
   ]
  },
  {
   "cell_type": "code",
   "execution_count": 38,
   "metadata": {},
   "outputs": [],
   "source": [
    "# df_funny.head()"
   ]
  },
  {
   "cell_type": "code",
   "execution_count": 39,
   "metadata": {},
   "outputs": [],
   "source": [
    "# df_sub3 = df_movies.append(df_funny)\n",
    "# df_sub3.shape"
   ]
  },
  {
   "cell_type": "code",
   "execution_count": 40,
   "metadata": {},
   "outputs": [],
   "source": [
    "# df_sub3.to_csv('./data/sub3.csv', index=False)"
   ]
  },
  {
   "cell_type": "code",
   "execution_count": 44,
   "metadata": {},
   "outputs": [],
   "source": [
    "# df_aww = get_reddit_data_by_sub(subs4[0])\n",
    "# df_PublicFreakout = get_reddit_data_by_sub(subs4[1])\n",
    "# df_macOS = get_reddit_data_by_sub(subs5[0])\n",
    "# df_nextfuckinglevel = get_reddit_data_by_sub(subs5[1])\n",
    "# df_computerscience = get_reddit_data_by_sub(subs6[0])\n",
    "# df_datascience = get_reddit_data_by_sub(subs6[1])\n",
    "# df_Wellthatsucks = get_reddit_data_by_sub(subs6[2])"
   ]
  },
  {
   "cell_type": "code",
   "execution_count": 45,
   "metadata": {},
   "outputs": [],
   "source": [
    "# df_temp = df_aww.append(df_PublicFreakout)\n",
    "# df_temp2 = df_temp.append(df_macOS)\n",
    "# df_temp3 = df_temp2.append(df_nextfuckinglevel)\n",
    "# df_temp4 = df_temp3.append(df_computerscience)\n",
    "# df_temp5 = df_temp4.append(df_datascience)\n",
    "# df = df_temp5.append(df_Wellthatsucks)\n",
    "# df.shape"
   ]
  },
  {
   "cell_type": "code",
   "execution_count": 46,
   "metadata": {},
   "outputs": [],
   "source": [
    "# df.to_csv('./data/sub4.csv', index=False)"
   ]
  },
  {
   "cell_type": "code",
   "execution_count": 47,
   "metadata": {},
   "outputs": [
    {
     "name": "stdout",
     "output_type": "stream",
     "text": [
      "(2050, 3)\n"
     ]
    }
   ],
   "source": [
    "# df_pics = get_reddit_data_by_sub(subs7[0])"
   ]
  },
  {
   "cell_type": "code",
   "execution_count": 49,
   "metadata": {},
   "outputs": [],
   "source": [
    "# df_pics.to_csv('./data/pics.csv', index=False)"
   ]
  },
  {
   "cell_type": "code",
   "execution_count": 10,
   "metadata": {},
   "outputs": [],
   "source": [
    "# df_wallstreetbets = get_reddit_data_by_sub(subs7[1])"
   ]
  },
  {
   "cell_type": "code",
   "execution_count": 14,
   "metadata": {},
   "outputs": [],
   "source": [
    "# df_memes = get_reddit_data_by_sub(subs8[0])"
   ]
  },
  {
   "cell_type": "code",
   "execution_count": 12,
   "metadata": {},
   "outputs": [],
   "source": [
    "# df_memes.to_csv('./data/memes.csv', index=False)"
   ]
  },
  {
   "cell_type": "code",
   "execution_count": 15,
   "metadata": {},
   "outputs": [
    {
     "name": "stdout",
     "output_type": "stream",
     "text": [
      "(1359, 3)\n"
     ]
    }
   ],
   "source": [
    "# df_videos = get_reddit_data_by_sub(subs8[1])"
   ]
  },
  {
   "cell_type": "code",
   "execution_count": 16,
   "metadata": {},
   "outputs": [],
   "source": [
    "# df_videos.to_csv('./data/videos.csv', index=False)"
   ]
  },
  {
   "cell_type": "code",
   "execution_count": 20,
   "metadata": {},
   "outputs": [],
   "source": [
    "# df_gaming = get_reddit_data_by_sub(subs9[0])"
   ]
  },
  {
   "cell_type": "code",
   "execution_count": 19,
   "metadata": {},
   "outputs": [],
   "source": [
    "# df_gaming.to_csv('./data/gaming.csv', index=False)"
   ]
  },
  {
   "cell_type": "code",
   "execution_count": 21,
   "metadata": {
    "scrolled": false
   },
   "outputs": [
    {
     "name": "stdout",
     "output_type": "stream",
     "text": [
      "(823, 3)\n"
     ]
    }
   ],
   "source": [
    "# df_Xqcow = get_reddit_data_by_sub(subs9[1])"
   ]
  },
  {
   "cell_type": "code",
   "execution_count": 22,
   "metadata": {},
   "outputs": [],
   "source": [
    "# df_Xqcow.to_csv('./data/Xqcow.csv', index=False)"
   ]
  },
  {
   "cell_type": "code",
   "execution_count": 25,
   "metadata": {},
   "outputs": [],
   "source": [
    "# df_news = get_reddit_data_by_sub(subs10[0])"
   ]
  },
  {
   "cell_type": "code",
   "execution_count": 26,
   "metadata": {},
   "outputs": [],
   "source": [
    "# df_news.to_csv('./data/news.csv', index=False)"
   ]
  },
  {
   "cell_type": "code",
   "execution_count": 27,
   "metadata": {},
   "outputs": [
    {
     "name": "stdout",
     "output_type": "stream",
     "text": [
      "(6077, 3)\n"
     ]
    }
   ],
   "source": [
    "# df_interestingasfuck = get_reddit_data_by_sub(subs10[1])"
   ]
  },
  {
   "cell_type": "code",
   "execution_count": 29,
   "metadata": {},
   "outputs": [],
   "source": [
    "# df_interestingasfuck.to_csv('./data/interestingasfuck.csv', index=False)"
   ]
  },
  {
   "cell_type": "code",
   "execution_count": 32,
   "metadata": {},
   "outputs": [],
   "source": [
    "# df_deeplearning = get_reddit_data_by_sub(subs11[0])"
   ]
  },
  {
   "cell_type": "code",
   "execution_count": 33,
   "metadata": {},
   "outputs": [],
   "source": [
    "# df_deeplearning.to_csv('./data/deeplearning.csv', index=False)"
   ]
  },
  {
   "cell_type": "code",
   "execution_count": 36,
   "metadata": {},
   "outputs": [],
   "source": [
    "# df_Whatcouldgowrong = get_reddit_data_by_sub(subs11[1])"
   ]
  },
  {
   "cell_type": "code",
   "execution_count": 37,
   "metadata": {},
   "outputs": [],
   "source": [
    "# df_Whatcouldgowrong.to_csv('./data/Whatcouldgowrong.csv', index=False)"
   ]
  },
  {
   "cell_type": "code",
   "execution_count": null,
   "metadata": {},
   "outputs": [],
   "source": []
  }
 ],
 "metadata": {
  "kernelspec": {
   "display_name": "Python 3",
   "language": "python",
   "name": "python3"
  },
  "language_info": {
   "codemirror_mode": {
    "name": "ipython",
    "version": 3
   },
   "file_extension": ".py",
   "mimetype": "text/x-python",
   "name": "python",
   "nbconvert_exporter": "python",
   "pygments_lexer": "ipython3",
   "version": "3.8.2"
  }
 },
 "nbformat": 4,
 "nbformat_minor": 4
}
