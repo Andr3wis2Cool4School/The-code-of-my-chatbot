{
 "cells": [
  {
   "cell_type": "markdown",
   "metadata": {},
   "source": [
    "Get This Year top reddit from reddit"
   ]
  },
  {
   "cell_type": "markdown",
   "metadata": {},
   "source": [
    "Just a test\n",
    "\n",
    "- subreddit: marvelstudios\n",
    "- id: l9o8sj"
   ]
  },
  {
   "cell_type": "code",
   "execution_count": 10,
   "metadata": {},
   "outputs": [],
   "source": [
    "import praw\n",
    "import redditinstance as redins\n",
    "import pandas as pd\n",
    "import numpy as np"
   ]
  },
  {
   "cell_type": "code",
   "execution_count": 4,
   "metadata": {},
   "outputs": [],
   "source": [
    "submission = redins.reddit.submission(id='l9o8sj')"
   ]
  },
  {
   "cell_type": "code",
   "execution_count": 5,
   "metadata": {},
   "outputs": [
    {
     "data": {
      "text/plain": [
       "'I love Jimmy Woo'"
      ]
     },
     "execution_count": 5,
     "metadata": {},
     "output_type": "execute_result"
    }
   ],
   "source": [
    "submission.title"
   ]
  },
  {
   "cell_type": "code",
   "execution_count": 21,
   "metadata": {},
   "outputs": [
    {
     "name": "stdout",
     "output_type": "stream",
     "text": [
      "marvelstudios\n"
     ]
    }
   ],
   "source": [
    "print(submission.subreddit)"
   ]
  },
  {
   "cell_type": "code",
   "execution_count": 18,
   "metadata": {
    "scrolled": false
   },
   "outputs": [],
   "source": [
    "# submission.comments.replace_more(limit=None)\n",
    "# for top_level_comment in submission.comments:\n",
    "#     print(type(top_level_comment.replies))\n",
    "    \n",
    "#     print(top_level_comment.body)\n",
    "    \n",
    "#     print('---------------')\n",
    "#     print(top_level_comment.replies[0].body)   "
   ]
  },
  {
   "cell_type": "markdown",
   "metadata": {},
   "source": [
    "**Make it into a dataframe**"
   ]
  },
  {
   "cell_type": "code",
   "execution_count": 14,
   "metadata": {},
   "outputs": [],
   "source": [
    "comment = list()\n",
    "reply = list()\n",
    "\n",
    "submission.comments.replace_more(limit=None)\n",
    "for top_level_comment in submission.comments:\n",
    "    if top_level_comment.replies:\n",
    "        comment.append(top_level_comment.body)\n",
    "        reply.append(top_level_comment.replies[0].body)"
   ]
  },
  {
   "cell_type": "code",
   "execution_count": 22,
   "metadata": {},
   "outputs": [],
   "source": [
    "data = dict()\n",
    "\n",
    "data['comment'] = comment\n",
    "data['repy'] = reply\n",
    "\n",
    "\n",
    "df = pd.DataFrame(data)\n",
    "df['subreddit'] = submission.subreddit"
   ]
  },
  {
   "cell_type": "code",
   "execution_count": 24,
   "metadata": {},
   "outputs": [
    {
     "data": {
      "text/html": [
       "<div>\n",
       "<style scoped>\n",
       "    .dataframe tbody tr th:only-of-type {\n",
       "        vertical-align: middle;\n",
       "    }\n",
       "\n",
       "    .dataframe tbody tr th {\n",
       "        vertical-align: top;\n",
       "    }\n",
       "\n",
       "    .dataframe thead th {\n",
       "        text-align: right;\n",
       "    }\n",
       "</style>\n",
       "<table border=\"1\" class=\"dataframe\">\n",
       "  <thead>\n",
       "    <tr style=\"text-align: right;\">\n",
       "      <th></th>\n",
       "      <th>comment</th>\n",
       "      <th>repy</th>\n",
       "      <th>subreddit</th>\n",
       "    </tr>\n",
       "  </thead>\n",
       "  <tbody>\n",
       "    <tr>\n",
       "      <th>0</th>\n",
       "      <td>Sooner or later he encounters a Sorcerer who's...</td>\n",
       "      <td>You got it twisted. Wong would be like \"How di...</td>\n",
       "      <td>marvelstudios</td>\n",
       "    </tr>\n",
       "    <tr>\n",
       "      <th>1</th>\n",
       "      <td>The Mystery Files of Jimmy Woo.</td>\n",
       "      <td>The first title in the Marvel Cinematic Wooniv...</td>\n",
       "      <td>marvelstudios</td>\n",
       "    </tr>\n",
       "    <tr>\n",
       "      <th>2</th>\n",
       "      <td>I already hardcore want him in everything just...</td>\n",
       "      <td>Just show up to solve some problem and it turn...</td>\n",
       "      <td>marvelstudios</td>\n",
       "    </tr>\n",
       "    <tr>\n",
       "      <th>3</th>\n",
       "      <td>Was the X-files not fun?\\n\\nAlso, Jimmy Woo ha...</td>\n",
       "      <td>Agents of Atlas was so much fun!\\n\\nWhile Woo ...</td>\n",
       "      <td>marvelstudios</td>\n",
       "    </tr>\n",
       "    <tr>\n",
       "      <th>4</th>\n",
       "      <td>I still think Scott Lang should have said yes ...</td>\n",
       "      <td>Scott inspired him to learn card tricks</td>\n",
       "      <td>marvelstudios</td>\n",
       "    </tr>\n",
       "  </tbody>\n",
       "</table>\n",
       "</div>"
      ],
      "text/plain": [
       "                                             comment  \\\n",
       "0  Sooner or later he encounters a Sorcerer who's...   \n",
       "1                    The Mystery Files of Jimmy Woo.   \n",
       "2  I already hardcore want him in everything just...   \n",
       "3  Was the X-files not fun?\\n\\nAlso, Jimmy Woo ha...   \n",
       "4  I still think Scott Lang should have said yes ...   \n",
       "\n",
       "                                                repy      subreddit  \n",
       "0  You got it twisted. Wong would be like \"How di...  marvelstudios  \n",
       "1  The first title in the Marvel Cinematic Wooniv...  marvelstudios  \n",
       "2  Just show up to solve some problem and it turn...  marvelstudios  \n",
       "3  Agents of Atlas was so much fun!\\n\\nWhile Woo ...  marvelstudios  \n",
       "4            Scott inspired him to learn card tricks  marvelstudios  "
      ]
     },
     "execution_count": 24,
     "metadata": {},
     "output_type": "execute_result"
    }
   ],
   "source": [
    "df.head()"
   ]
  }
 ],
 "metadata": {
  "kernelspec": {
   "display_name": "Python 3",
   "language": "python",
   "name": "python3"
  },
  "language_info": {
   "codemirror_mode": {
    "name": "ipython",
    "version": 3
   },
   "file_extension": ".py",
   "mimetype": "text/x-python",
   "name": "python",
   "nbconvert_exporter": "python",
   "pygments_lexer": "ipython3",
   "version": "3.8.2"
  }
 },
 "nbformat": 4,
 "nbformat_minor": 4
}
