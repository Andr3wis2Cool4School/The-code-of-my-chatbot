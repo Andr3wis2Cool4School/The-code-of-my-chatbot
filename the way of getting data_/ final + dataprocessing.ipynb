{
 "cells": [
  {
   "cell_type": "markdown",
   "metadata": {},
   "source": [
    "Pre processing"
   ]
  },
  {
   "cell_type": "code",
   "execution_count": 11,
   "metadata": {},
   "outputs": [],
   "source": [
    "import pandas as pd\n",
    "import string\n",
    "import json"
   ]
  },
  {
   "cell_type": "code",
   "execution_count": 4,
   "metadata": {},
   "outputs": [],
   "source": [
    "raw_data = pd.read_csv('../data/alldata.csv')"
   ]
  },
  {
   "cell_type": "code",
   "execution_count": 5,
   "metadata": {},
   "outputs": [
    {
     "data": {
      "text/html": [
       "<div>\n",
       "<style scoped>\n",
       "    .dataframe tbody tr th:only-of-type {\n",
       "        vertical-align: middle;\n",
       "    }\n",
       "\n",
       "    .dataframe tbody tr th {\n",
       "        vertical-align: top;\n",
       "    }\n",
       "\n",
       "    .dataframe thead th {\n",
       "        text-align: right;\n",
       "    }\n",
       "</style>\n",
       "<table border=\"1\" class=\"dataframe\">\n",
       "  <thead>\n",
       "    <tr style=\"text-align: right;\">\n",
       "      <th></th>\n",
       "      <th>Unnamed: 0</th>\n",
       "      <th>comment</th>\n",
       "      <th>reply</th>\n",
       "      <th>subreddit</th>\n",
       "    </tr>\n",
       "  </thead>\n",
       "  <tbody>\n",
       "    <tr>\n",
       "      <th>0</th>\n",
       "      <td>0</td>\n",
       "      <td>I got downvoted for saying this on a tiktok post</td>\n",
       "      <td>Just report videos that break rules.  Mods wil...</td>\n",
       "      <td>Whatcouldgowrong</td>\n",
       "    </tr>\n",
       "    <tr>\n",
       "      <th>1</th>\n",
       "      <td>1</td>\n",
       "      <td>Fairly new to all this, so I apologise in adva...</td>\n",
       "      <td>A plug is to advertise for something usually f...</td>\n",
       "      <td>Whatcouldgowrong</td>\n",
       "    </tr>\n",
       "    <tr>\n",
       "      <th>2</th>\n",
       "      <td>2</td>\n",
       "      <td>&gt; See Rule 7\\n\\nI see only six rules in the si...</td>\n",
       "      <td>Are you on old reddit?\\n\\nEdit: Updated the si...</td>\n",
       "      <td>Whatcouldgowrong</td>\n",
       "    </tr>\n",
       "    <tr>\n",
       "      <th>3</th>\n",
       "      <td>3</td>\n",
       "      <td>Any strong feelings on \"Challenge\" videos?\\n\\n...</td>\n",
       "      <td>These are usually removed, but the ones that g...</td>\n",
       "      <td>Whatcouldgowrong</td>\n",
       "    </tr>\n",
       "    <tr>\n",
       "      <th>4</th>\n",
       "      <td>4</td>\n",
       "      <td>Geeeezus christ... Rules for vids</td>\n",
       "      <td>What</td>\n",
       "      <td>Whatcouldgowrong</td>\n",
       "    </tr>\n",
       "  </tbody>\n",
       "</table>\n",
       "</div>"
      ],
      "text/plain": [
       "   Unnamed: 0                                            comment  \\\n",
       "0           0   I got downvoted for saying this on a tiktok post   \n",
       "1           1  Fairly new to all this, so I apologise in adva...   \n",
       "2           2  > See Rule 7\\n\\nI see only six rules in the si...   \n",
       "3           3  Any strong feelings on \"Challenge\" videos?\\n\\n...   \n",
       "4           4                  Geeeezus christ... Rules for vids   \n",
       "\n",
       "                                               reply         subreddit  \n",
       "0  Just report videos that break rules.  Mods wil...  Whatcouldgowrong  \n",
       "1  A plug is to advertise for something usually f...  Whatcouldgowrong  \n",
       "2  Are you on old reddit?\\n\\nEdit: Updated the si...  Whatcouldgowrong  \n",
       "3  These are usually removed, but the ones that g...  Whatcouldgowrong  \n",
       "4                                               What  Whatcouldgowrong  "
      ]
     },
     "execution_count": 5,
     "metadata": {},
     "output_type": "execute_result"
    }
   ],
   "source": [
    "raw_data.head()"
   ]
  },
  {
   "cell_type": "code",
   "execution_count": 6,
   "metadata": {},
   "outputs": [],
   "source": [
    "raw_data.drop('Unnamed: 0', axis=1, inplace=True)"
   ]
  },
  {
   "cell_type": "code",
   "execution_count": 7,
   "metadata": {},
   "outputs": [
    {
     "data": {
      "text/html": [
       "<div>\n",
       "<style scoped>\n",
       "    .dataframe tbody tr th:only-of-type {\n",
       "        vertical-align: middle;\n",
       "    }\n",
       "\n",
       "    .dataframe tbody tr th {\n",
       "        vertical-align: top;\n",
       "    }\n",
       "\n",
       "    .dataframe thead th {\n",
       "        text-align: right;\n",
       "    }\n",
       "</style>\n",
       "<table border=\"1\" class=\"dataframe\">\n",
       "  <thead>\n",
       "    <tr style=\"text-align: right;\">\n",
       "      <th></th>\n",
       "      <th>comment</th>\n",
       "      <th>reply</th>\n",
       "      <th>subreddit</th>\n",
       "    </tr>\n",
       "  </thead>\n",
       "  <tbody>\n",
       "    <tr>\n",
       "      <th>0</th>\n",
       "      <td>I got downvoted for saying this on a tiktok post</td>\n",
       "      <td>Just report videos that break rules.  Mods wil...</td>\n",
       "      <td>Whatcouldgowrong</td>\n",
       "    </tr>\n",
       "    <tr>\n",
       "      <th>1</th>\n",
       "      <td>Fairly new to all this, so I apologise in adva...</td>\n",
       "      <td>A plug is to advertise for something usually f...</td>\n",
       "      <td>Whatcouldgowrong</td>\n",
       "    </tr>\n",
       "    <tr>\n",
       "      <th>2</th>\n",
       "      <td>&gt; See Rule 7\\n\\nI see only six rules in the si...</td>\n",
       "      <td>Are you on old reddit?\\n\\nEdit: Updated the si...</td>\n",
       "      <td>Whatcouldgowrong</td>\n",
       "    </tr>\n",
       "    <tr>\n",
       "      <th>3</th>\n",
       "      <td>Any strong feelings on \"Challenge\" videos?\\n\\n...</td>\n",
       "      <td>These are usually removed, but the ones that g...</td>\n",
       "      <td>Whatcouldgowrong</td>\n",
       "    </tr>\n",
       "    <tr>\n",
       "      <th>4</th>\n",
       "      <td>Geeeezus christ... Rules for vids</td>\n",
       "      <td>What</td>\n",
       "      <td>Whatcouldgowrong</td>\n",
       "    </tr>\n",
       "    <tr>\n",
       "      <th>...</th>\n",
       "      <td>...</td>\n",
       "      <td>...</td>\n",
       "      <td>...</td>\n",
       "    </tr>\n",
       "    <tr>\n",
       "      <th>3115835</th>\n",
       "      <td>Looks like he gives a cite.</td>\n",
       "      <td>Thanks, so it's from the book 'A man on the mo...</td>\n",
       "      <td>Frisson</td>\n",
       "    </tr>\n",
       "    <tr>\n",
       "      <th>3115836</th>\n",
       "      <td>Can you somehow share this? I really like it a...</td>\n",
       "      <td>Hopefully this will work. Here's the rmskin  h...</td>\n",
       "      <td>Rainmeter</td>\n",
       "    </tr>\n",
       "    <tr>\n",
       "      <th>3115837</th>\n",
       "      <td>1644  robot that would be</td>\n",
       "      <td>1645  very helpful in preforming</td>\n",
       "      <td>counting</td>\n",
       "    </tr>\n",
       "    <tr>\n",
       "      <th>3115838</th>\n",
       "      <td>The store on the left is Cards Against Humanit...</td>\n",
       "      <td>Also they have your shipping address if you're...</td>\n",
       "      <td>pcmasterrace</td>\n",
       "    </tr>\n",
       "    <tr>\n",
       "      <th>3115839</th>\n",
       "      <td>I just said 'Oh my god' in quite possibly the ...</td>\n",
       "      <td>I was invited to help come up on stage with th...</td>\n",
       "      <td>Random_Acts_Of_Amazon</td>\n",
       "    </tr>\n",
       "  </tbody>\n",
       "</table>\n",
       "<p>3115840 rows × 3 columns</p>\n",
       "</div>"
      ],
      "text/plain": [
       "                                                   comment  \\\n",
       "0         I got downvoted for saying this on a tiktok post   \n",
       "1        Fairly new to all this, so I apologise in adva...   \n",
       "2        > See Rule 7\\n\\nI see only six rules in the si...   \n",
       "3        Any strong feelings on \"Challenge\" videos?\\n\\n...   \n",
       "4                        Geeeezus christ... Rules for vids   \n",
       "...                                                    ...   \n",
       "3115835                       Looks like he gives a cite.    \n",
       "3115836  Can you somehow share this? I really like it a...   \n",
       "3115837                          1644  robot that would be   \n",
       "3115838  The store on the left is Cards Against Humanit...   \n",
       "3115839  I just said 'Oh my god' in quite possibly the ...   \n",
       "\n",
       "                                                     reply  \\\n",
       "0        Just report videos that break rules.  Mods wil...   \n",
       "1        A plug is to advertise for something usually f...   \n",
       "2        Are you on old reddit?\\n\\nEdit: Updated the si...   \n",
       "3        These are usually removed, but the ones that g...   \n",
       "4                                                     What   \n",
       "...                                                    ...   \n",
       "3115835  Thanks, so it's from the book 'A man on the mo...   \n",
       "3115836  Hopefully this will work. Here's the rmskin  h...   \n",
       "3115837                   1645  very helpful in preforming   \n",
       "3115838  Also they have your shipping address if you're...   \n",
       "3115839  I was invited to help come up on stage with th...   \n",
       "\n",
       "                     subreddit  \n",
       "0             Whatcouldgowrong  \n",
       "1             Whatcouldgowrong  \n",
       "2             Whatcouldgowrong  \n",
       "3             Whatcouldgowrong  \n",
       "4             Whatcouldgowrong  \n",
       "...                        ...  \n",
       "3115835                Frisson  \n",
       "3115836              Rainmeter  \n",
       "3115837               counting  \n",
       "3115838           pcmasterrace  \n",
       "3115839  Random_Acts_Of_Amazon  \n",
       "\n",
       "[3115840 rows x 3 columns]"
      ]
     },
     "execution_count": 7,
     "metadata": {},
     "output_type": "execute_result"
    }
   ],
   "source": [
    "raw_data"
   ]
  },
  {
   "cell_type": "code",
   "execution_count": 8,
   "metadata": {},
   "outputs": [],
   "source": [
    "raw_data['comment'] = raw_data.comment.apply(lambda x: str(x).replace('\\n', ' ').replace('\\r', '  ').replace('\"', \"'\") )\n",
    "raw_data['reply'] = raw_data.reply.apply(lambda x: str(x).replace('\\n', ' ').replace('\\r', '  ').replace('\"', \"'\") )"
   ]
  },
  {
   "cell_type": "code",
   "execution_count": 9,
   "metadata": {},
   "outputs": [
    {
     "data": {
      "text/html": [
       "<div>\n",
       "<style scoped>\n",
       "    .dataframe tbody tr th:only-of-type {\n",
       "        vertical-align: middle;\n",
       "    }\n",
       "\n",
       "    .dataframe tbody tr th {\n",
       "        vertical-align: top;\n",
       "    }\n",
       "\n",
       "    .dataframe thead th {\n",
       "        text-align: right;\n",
       "    }\n",
       "</style>\n",
       "<table border=\"1\" class=\"dataframe\">\n",
       "  <thead>\n",
       "    <tr style=\"text-align: right;\">\n",
       "      <th></th>\n",
       "      <th>comment</th>\n",
       "      <th>reply</th>\n",
       "      <th>subreddit</th>\n",
       "    </tr>\n",
       "  </thead>\n",
       "  <tbody>\n",
       "    <tr>\n",
       "      <th>0</th>\n",
       "      <td>I got downvoted for saying this on a tiktok post</td>\n",
       "      <td>Just report videos that break rules.  Mods wil...</td>\n",
       "      <td>Whatcouldgowrong</td>\n",
       "    </tr>\n",
       "    <tr>\n",
       "      <th>1</th>\n",
       "      <td>Fairly new to all this, so I apologise in adva...</td>\n",
       "      <td>A plug is to advertise for something usually f...</td>\n",
       "      <td>Whatcouldgowrong</td>\n",
       "    </tr>\n",
       "    <tr>\n",
       "      <th>2</th>\n",
       "      <td>&gt; See Rule 7  I see only six rules in the side...</td>\n",
       "      <td>Are you on old reddit?  Edit: Updated the side...</td>\n",
       "      <td>Whatcouldgowrong</td>\n",
       "    </tr>\n",
       "    <tr>\n",
       "      <th>3</th>\n",
       "      <td>Any strong feelings on 'Challenge' videos?  I'...</td>\n",
       "      <td>These are usually removed, but the ones that g...</td>\n",
       "      <td>Whatcouldgowrong</td>\n",
       "    </tr>\n",
       "    <tr>\n",
       "      <th>4</th>\n",
       "      <td>Geeeezus christ... Rules for vids</td>\n",
       "      <td>What</td>\n",
       "      <td>Whatcouldgowrong</td>\n",
       "    </tr>\n",
       "    <tr>\n",
       "      <th>...</th>\n",
       "      <td>...</td>\n",
       "      <td>...</td>\n",
       "      <td>...</td>\n",
       "    </tr>\n",
       "    <tr>\n",
       "      <th>3115835</th>\n",
       "      <td>Looks like he gives a cite.</td>\n",
       "      <td>Thanks, so it's from the book 'A man on the mo...</td>\n",
       "      <td>Frisson</td>\n",
       "    </tr>\n",
       "    <tr>\n",
       "      <th>3115836</th>\n",
       "      <td>Can you somehow share this? I really like it a...</td>\n",
       "      <td>Hopefully this will work. Here's the rmskin  h...</td>\n",
       "      <td>Rainmeter</td>\n",
       "    </tr>\n",
       "    <tr>\n",
       "      <th>3115837</th>\n",
       "      <td>1644  robot that would be</td>\n",
       "      <td>1645  very helpful in preforming</td>\n",
       "      <td>counting</td>\n",
       "    </tr>\n",
       "    <tr>\n",
       "      <th>3115838</th>\n",
       "      <td>The store on the left is Cards Against Humanit...</td>\n",
       "      <td>Also they have your shipping address if you're...</td>\n",
       "      <td>pcmasterrace</td>\n",
       "    </tr>\n",
       "    <tr>\n",
       "      <th>3115839</th>\n",
       "      <td>I just said 'Oh my god' in quite possibly the ...</td>\n",
       "      <td>I was invited to help come up on stage with th...</td>\n",
       "      <td>Random_Acts_Of_Amazon</td>\n",
       "    </tr>\n",
       "  </tbody>\n",
       "</table>\n",
       "<p>3115840 rows × 3 columns</p>\n",
       "</div>"
      ],
      "text/plain": [
       "                                                   comment  \\\n",
       "0         I got downvoted for saying this on a tiktok post   \n",
       "1        Fairly new to all this, so I apologise in adva...   \n",
       "2        > See Rule 7  I see only six rules in the side...   \n",
       "3        Any strong feelings on 'Challenge' videos?  I'...   \n",
       "4                        Geeeezus christ... Rules for vids   \n",
       "...                                                    ...   \n",
       "3115835                       Looks like he gives a cite.    \n",
       "3115836  Can you somehow share this? I really like it a...   \n",
       "3115837                          1644  robot that would be   \n",
       "3115838  The store on the left is Cards Against Humanit...   \n",
       "3115839  I just said 'Oh my god' in quite possibly the ...   \n",
       "\n",
       "                                                     reply  \\\n",
       "0        Just report videos that break rules.  Mods wil...   \n",
       "1        A plug is to advertise for something usually f...   \n",
       "2        Are you on old reddit?  Edit: Updated the side...   \n",
       "3        These are usually removed, but the ones that g...   \n",
       "4                                                     What   \n",
       "...                                                    ...   \n",
       "3115835  Thanks, so it's from the book 'A man on the mo...   \n",
       "3115836  Hopefully this will work. Here's the rmskin  h...   \n",
       "3115837                   1645  very helpful in preforming   \n",
       "3115838  Also they have your shipping address if you're...   \n",
       "3115839  I was invited to help come up on stage with th...   \n",
       "\n",
       "                     subreddit  \n",
       "0             Whatcouldgowrong  \n",
       "1             Whatcouldgowrong  \n",
       "2             Whatcouldgowrong  \n",
       "3             Whatcouldgowrong  \n",
       "4             Whatcouldgowrong  \n",
       "...                        ...  \n",
       "3115835                Frisson  \n",
       "3115836              Rainmeter  \n",
       "3115837               counting  \n",
       "3115838           pcmasterrace  \n",
       "3115839  Random_Acts_Of_Amazon  \n",
       "\n",
       "[3115840 rows x 3 columns]"
      ]
     },
     "execution_count": 9,
     "metadata": {},
     "output_type": "execute_result"
    }
   ],
   "source": [
    "raw_data"
   ]
  },
  {
   "cell_type": "markdown",
   "metadata": {},
   "source": [
    "splite the dataset + demo"
   ]
  },
  {
   "cell_type": "markdown",
   "metadata": {},
   "source": [
    "seqtoseq using tensorflow"
   ]
  },
  {
   "cell_type": "code",
   "execution_count": 13,
   "metadata": {},
   "outputs": [],
   "source": [
    "config = json.load(open('../my_utils/config.json', 'r'))"
   ]
  },
  {
   "cell_type": "code",
   "execution_count": 17,
   "metadata": {},
   "outputs": [
    {
     "data": {
      "text/plain": [
       "2492672"
      ]
     },
     "execution_count": 17,
     "metadata": {},
     "output_type": "execute_result"
    }
   ],
   "source": [
    "split = config['data']['train_test_split']\n",
    "i_split = int(len(raw_data)*split)\n",
    "i_split"
   ]
  },
  {
   "cell_type": "code",
   "execution_count": 19,
   "metadata": {},
   "outputs": [],
   "source": [
    "data_train_from = raw_data.get('comment').values[:i_split]\n",
    "data_train_to = raw_data.get('reply').values[:i_split]\n",
    "data_test_from = raw_data.get('comment').values[i_split:]\n",
    "data_test_from = raw_data.get('reply').values[i_split:]\n",
    "subreddits = raw_data.get('subreddit').values"
   ]
  },
  {
   "cell_type": "code",
   "execution_count": 21,
   "metadata": {},
   "outputs": [
    {
     "data": {
      "text/plain": [
       "2492672"
      ]
     },
     "execution_count": 21,
     "metadata": {},
     "output_type": "execute_result"
    }
   ],
   "source": [
    "len(data_train_from)"
   ]
  },
  {
   "cell_type": "code",
   "execution_count": 22,
   "metadata": {},
   "outputs": [
    {
     "data": {
      "text/plain": [
       "2492672"
      ]
     },
     "execution_count": 22,
     "metadata": {},
     "output_type": "execute_result"
    }
   ],
   "source": [
    "len(data_train_to)"
   ]
  },
  {
   "cell_type": "markdown",
   "metadata": {},
   "source": [
    "lengths are the same"
   ]
  },
  {
   "cell_type": "code",
   "execution_count": null,
   "metadata": {},
   "outputs": [],
   "source": []
  }
 ],
 "metadata": {
  "kernelspec": {
   "display_name": "Python 3",
   "language": "python",
   "name": "python3"
  },
  "language_info": {
   "codemirror_mode": {
    "name": "ipython",
    "version": 3
   },
   "file_extension": ".py",
   "mimetype": "text/x-python",
   "name": "python",
   "nbconvert_exporter": "python",
   "pygments_lexer": "ipython3",
   "version": "3.8.5"
  }
 },
 "nbformat": 4,
 "nbformat_minor": 4
}
