{
 "cells": [
  {
   "cell_type": "code",
   "execution_count": 41,
   "metadata": {},
   "outputs": [
    {
     "name": "stdout",
     "output_type": "stream",
     "text": [
      "['./data/Whatcouldgowrong.csv', './data/Xqcow.csv', './data/data4.csv', './data/deeplearning.csv', './data/gaming.csv', './data/interestingasfuck.csv', './data/memes.csv', './data/news.csv', './data/pics.csv', './data/sub1.csv', './data/sub2.csv', './data/sub3.csv', './data/sub4.csv', './data/subreddit_Python.csv', './data/videos.csv']\n"
     ]
    }
   ],
   "source": [
    "from my_utils import utils_paths\n",
    "import os \n",
    "import pandas as pd\n",
    "\n",
    "\n",
    "data = []\n",
    "datapaths = sorted(list(utils_paths.list_data('./data')))\n",
    "\n",
    "\n",
    "print(datapaths)"
   ]
  },
  {
   "cell_type": "code",
   "execution_count": 42,
   "metadata": {},
   "outputs": [
    {
     "data": {
      "text/plain": [
       "15"
      ]
     },
     "execution_count": 42,
     "metadata": {},
     "output_type": "execute_result"
    }
   ],
   "source": [
    "len(datapaths)"
   ]
  },
  {
   "cell_type": "code",
   "execution_count": 49,
   "metadata": {
    "scrolled": false
   },
   "outputs": [],
   "source": [
    "comments = []\n",
    "replies = []\n",
    "subreddits = []\n",
    "\n",
    "for file in datapaths:\n",
    "    df = pd.read_csv(file)\n",
    "    for comment in df.comment.values:\n",
    "        comments.append(comment)\n",
    "    for reply in df.reply.values:\n",
    "        replies.append(reply)\n",
    "    for subreddit in df.subreddit.values:\n",
    "        subreddits.append(subreddit)"
   ]
  },
  {
   "cell_type": "code",
   "execution_count": 51,
   "metadata": {},
   "outputs": [
    {
     "data": {
      "text/html": [
       "<div>\n",
       "<style scoped>\n",
       "    .dataframe tbody tr th:only-of-type {\n",
       "        vertical-align: middle;\n",
       "    }\n",
       "\n",
       "    .dataframe tbody tr th {\n",
       "        vertical-align: top;\n",
       "    }\n",
       "\n",
       "    .dataframe thead th {\n",
       "        text-align: right;\n",
       "    }\n",
       "</style>\n",
       "<table border=\"1\" class=\"dataframe\">\n",
       "  <thead>\n",
       "    <tr style=\"text-align: right;\">\n",
       "      <th></th>\n",
       "      <th>comment</th>\n",
       "      <th>reply</th>\n",
       "      <th>subreddit</th>\n",
       "    </tr>\n",
       "  </thead>\n",
       "  <tbody>\n",
       "    <tr>\n",
       "      <th>0</th>\n",
       "      <td>I got downvoted for saying this on a tiktok post</td>\n",
       "      <td>Just report videos that break rules.  Mods wil...</td>\n",
       "      <td>Whatcouldgowrong</td>\n",
       "    </tr>\n",
       "    <tr>\n",
       "      <th>1</th>\n",
       "      <td>Fairly new to all this, so I apologise in adva...</td>\n",
       "      <td>A plug is to advertise for something usually f...</td>\n",
       "      <td>Whatcouldgowrong</td>\n",
       "    </tr>\n",
       "    <tr>\n",
       "      <th>2</th>\n",
       "      <td>&gt; See Rule 7\\n\\nI see only six rules in the si...</td>\n",
       "      <td>Are you on old reddit?\\n\\nEdit: Updated the si...</td>\n",
       "      <td>Whatcouldgowrong</td>\n",
       "    </tr>\n",
       "    <tr>\n",
       "      <th>3</th>\n",
       "      <td>Any strong feelings on \"Challenge\" videos?\\n\\n...</td>\n",
       "      <td>These are usually removed, but the ones that g...</td>\n",
       "      <td>Whatcouldgowrong</td>\n",
       "    </tr>\n",
       "    <tr>\n",
       "      <th>4</th>\n",
       "      <td>Geeeezus christ... Rules for vids</td>\n",
       "      <td>What</td>\n",
       "      <td>Whatcouldgowrong</td>\n",
       "    </tr>\n",
       "  </tbody>\n",
       "</table>\n",
       "</div>"
      ],
      "text/plain": [
       "                                             comment  \\\n",
       "0   I got downvoted for saying this on a tiktok post   \n",
       "1  Fairly new to all this, so I apologise in adva...   \n",
       "2  > See Rule 7\\n\\nI see only six rules in the si...   \n",
       "3  Any strong feelings on \"Challenge\" videos?\\n\\n...   \n",
       "4                  Geeeezus christ... Rules for vids   \n",
       "\n",
       "                                               reply         subreddit  \n",
       "0  Just report videos that break rules.  Mods wil...  Whatcouldgowrong  \n",
       "1  A plug is to advertise for something usually f...  Whatcouldgowrong  \n",
       "2  Are you on old reddit?\\n\\nEdit: Updated the si...  Whatcouldgowrong  \n",
       "3  These are usually removed, but the ones that g...  Whatcouldgowrong  \n",
       "4                                               What  Whatcouldgowrong  "
      ]
     },
     "execution_count": 51,
     "metadata": {},
     "output_type": "execute_result"
    }
   ],
   "source": [
    "dic = {}\n",
    "dic['comment'] = comments\n",
    "dic['reply'] = replies\n",
    "dic['subreddit'] = subreddits\n",
    "\n",
    "df = pd.DataFrame(dic)\n",
    "df.head()"
   ]
  },
  {
   "cell_type": "code",
   "execution_count": 52,
   "metadata": {},
   "outputs": [
    {
     "data": {
      "text/plain": [
       "<bound method DataFrame.info of                                                    comment  \\\n",
       "0         I got downvoted for saying this on a tiktok post   \n",
       "1        Fairly new to all this, so I apologise in adva...   \n",
       "2        > See Rule 7\\n\\nI see only six rules in the si...   \n",
       "3        Any strong feelings on \"Challenge\" videos?\\n\\n...   \n",
       "4                        Geeeezus christ... Rules for vids   \n",
       "...                                                    ...   \n",
       "1091566  American ninja warrior and all the physical co...   \n",
       "1091567  Ooh, can't wait to see more of this. Though ag...   \n",
       "1091568  Are you not worried about the fair use 10 min ...   \n",
       "1091569  I read that as “14 seconds” and now I can’t st...   \n",
       "1091570               The big-ass woman isn't in the video   \n",
       "\n",
       "                                                     reply         subreddit  \n",
       "0        Just report videos that break rules.  Mods wil...  Whatcouldgowrong  \n",
       "1        A plug is to advertise for something usually f...  Whatcouldgowrong  \n",
       "2        Are you on old reddit?\\n\\nEdit: Updated the si...  Whatcouldgowrong  \n",
       "3        These are usually removed, but the ones that g...  Whatcouldgowrong  \n",
       "4                                                     What  Whatcouldgowrong  \n",
       "...                                                    ...               ...  \n",
       "1091566  I'd estimate that there is about 30% game cont...            videos  \n",
       "1091567  Perhaps [The Bidding Room](https://www.youtube...            videos  \n",
       "1091568  It should be covered under fair use. It's only...            videos  \n",
       "1091569  I feel like a 14 second version could be reall...            videos  \n",
       "1091570  youtube 101: put woman with big ass or tits in...            videos  \n",
       "\n",
       "[1091571 rows x 3 columns]>"
      ]
     },
     "execution_count": 52,
     "metadata": {},
     "output_type": "execute_result"
    }
   ],
   "source": [
    "df.info"
   ]
  }
 ],
 "metadata": {
  "kernelspec": {
   "display_name": "Python 3",
   "language": "python",
   "name": "python3"
  },
  "language_info": {
   "codemirror_mode": {
    "name": "ipython",
    "version": 3
   },
   "file_extension": ".py",
   "mimetype": "text/x-python",
   "name": "python",
   "nbconvert_exporter": "python",
   "pygments_lexer": "ipython3",
   "version": "3.8.2"
  }
 },
 "nbformat": 4,
 "nbformat_minor": 4
}
