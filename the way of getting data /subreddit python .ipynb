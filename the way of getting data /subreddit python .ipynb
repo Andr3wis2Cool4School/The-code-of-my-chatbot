{
 "cells": [
  {
   "cell_type": "code",
   "execution_count": 41,
   "metadata": {},
   "outputs": [],
   "source": [
    "import numpy as np\n",
    "import pandas as pd \n",
    "import praw\n",
    "import redditinstance as redins\n",
    "from tqdm import tqdm\n",
    "import time"
   ]
  },
  {
   "cell_type": "code",
   "execution_count": 51,
   "metadata": {},
   "outputs": [],
   "source": [
    "sub = 'python'\n",
    "subreddit = redins.reddit.subreddit(sub)"
   ]
  },
  {
   "cell_type": "code",
   "execution_count": 49,
   "metadata": {},
   "outputs": [
    {
     "data": {
      "text/plain": [
       "['__call__',\n",
       " '__class__',\n",
       " '__delattr__',\n",
       " '__dir__',\n",
       " '__doc__',\n",
       " '__eq__',\n",
       " '__format__',\n",
       " '__func__',\n",
       " '__ge__',\n",
       " '__get__',\n",
       " '__getattribute__',\n",
       " '__gt__',\n",
       " '__hash__',\n",
       " '__init__',\n",
       " '__init_subclass__',\n",
       " '__le__',\n",
       " '__lt__',\n",
       " '__ne__',\n",
       " '__new__',\n",
       " '__reduce__',\n",
       " '__reduce_ex__',\n",
       " '__repr__',\n",
       " '__self__',\n",
       " '__setattr__',\n",
       " '__sizeof__',\n",
       " '__str__',\n",
       " '__subclasshook__']"
      ]
     },
     "execution_count": 49,
     "metadata": {},
     "output_type": "execute_result"
    }
   ],
   "source": [
    "dir(subreddit.hot)"
   ]
  },
  {
   "cell_type": "code",
   "execution_count": 53,
   "metadata": {},
   "outputs": [
    {
     "name": "stdout",
     "output_type": "stream",
     "text": [
      "569\n"
     ]
    }
   ],
   "source": [
    "n = 0\n",
    "for submission in subreddit.hot(limit=1000):\n",
    "    n += 1\n",
    "    \n",
    "print(n)\n",
    "    "
   ]
  },
  {
   "cell_type": "code",
   "execution_count": 55,
   "metadata": {},
   "outputs": [
    {
     "name": "stderr",
     "output_type": "stream",
     "text": [
      "100%|█████████▉| 568/570 [05:58<00:01,  1.58it/s]\n"
     ]
    }
   ],
   "source": [
    "comment_list = list()\n",
    "reply_list = list()\n",
    "data = dict()\n",
    "limit = 1\n",
    "\n",
    "for submission in subreddit.hot(limit=1000):\n",
    "    limit += 1\n",
    "\n",
    "with tqdm(total=limit) as pbar:\n",
    "    for submission in subreddit.hot(limit=limit):\n",
    "        submission.comments.replace_more(limit=None)\n",
    "        \n",
    "        for top_level_comment in submission.comments:\n",
    "            if top_level_comment.replies:\n",
    "                comment_list.append(top_level_comment.body)\n",
    "                reply_list.append(top_level_comment.replies[0].body)\n",
    "        \n",
    "        time.sleep(0.01)\n",
    "        pbar.update(1)\n"
   ]
  },
  {
   "cell_type": "code",
   "execution_count": 56,
   "metadata": {},
   "outputs": [],
   "source": [
    "data['comment'] = comment_list\n",
    "data['reply'] = reply_list"
   ]
  },
  {
   "cell_type": "code",
   "execution_count": 57,
   "metadata": {},
   "outputs": [],
   "source": [
    "df = pd.DataFrame(data)\n",
    "df['subreddit'] = subreddit.title"
   ]
  },
  {
   "cell_type": "code",
   "execution_count": 58,
   "metadata": {},
   "outputs": [
    {
     "data": {
      "text/html": [
       "<div>\n",
       "<style scoped>\n",
       "    .dataframe tbody tr th:only-of-type {\n",
       "        vertical-align: middle;\n",
       "    }\n",
       "\n",
       "    .dataframe tbody tr th {\n",
       "        vertical-align: top;\n",
       "    }\n",
       "\n",
       "    .dataframe thead th {\n",
       "        text-align: right;\n",
       "    }\n",
       "</style>\n",
       "<table border=\"1\" class=\"dataframe\">\n",
       "  <thead>\n",
       "    <tr style=\"text-align: right;\">\n",
       "      <th></th>\n",
       "      <th>comment</th>\n",
       "      <th>reply</th>\n",
       "      <th>subreddit</th>\n",
       "    </tr>\n",
       "  </thead>\n",
       "  <tbody>\n",
       "    <tr>\n",
       "      <th>0</th>\n",
       "      <td>I’ve been working on this [project](https://gi...</td>\n",
       "      <td>Looks really nice and clean! Have you by chanc...</td>\n",
       "      <td>Python</td>\n",
       "    </tr>\n",
       "    <tr>\n",
       "      <th>1</th>\n",
       "      <td>Automating some volunteer work. Ingesting audi...</td>\n",
       "      <td>No moviepy?\\n\\n(Just started playing with it i...</td>\n",
       "      <td>Python</td>\n",
       "    </tr>\n",
       "    <tr>\n",
       "      <th>2</th>\n",
       "      <td>Yes, in general:\\n\\n    object.method(...)\\n\\n...</td>\n",
       "      <td>Is there a specific case where it isn't?</td>\n",
       "      <td>Python</td>\n",
       "    </tr>\n",
       "    <tr>\n",
       "      <th>3</th>\n",
       "      <td>Very nice... I've loved python since the 90s b...</td>\n",
       "      <td>The more I use other languages, the more I rea...</td>\n",
       "      <td>Python</td>\n",
       "    </tr>\n",
       "    <tr>\n",
       "      <th>4</th>\n",
       "      <td>I am gonna try this, I need to start using lam...</td>\n",
       "      <td>I'm not sure how you went from OP showing how ...</td>\n",
       "      <td>Python</td>\n",
       "    </tr>\n",
       "  </tbody>\n",
       "</table>\n",
       "</div>"
      ],
      "text/plain": [
       "                                             comment  \\\n",
       "0  I’ve been working on this [project](https://gi...   \n",
       "1  Automating some volunteer work. Ingesting audi...   \n",
       "2  Yes, in general:\\n\\n    object.method(...)\\n\\n...   \n",
       "3  Very nice... I've loved python since the 90s b...   \n",
       "4  I am gonna try this, I need to start using lam...   \n",
       "\n",
       "                                               reply subreddit  \n",
       "0  Looks really nice and clean! Have you by chanc...    Python  \n",
       "1  No moviepy?\\n\\n(Just started playing with it i...    Python  \n",
       "2           Is there a specific case where it isn't?    Python  \n",
       "3  The more I use other languages, the more I rea...    Python  \n",
       "4  I'm not sure how you went from OP showing how ...    Python  "
      ]
     },
     "execution_count": 58,
     "metadata": {},
     "output_type": "execute_result"
    }
   ],
   "source": [
    "df.head()"
   ]
  },
  {
   "cell_type": "code",
   "execution_count": 59,
   "metadata": {},
   "outputs": [],
   "source": [
    "# df.to_csv('./data/subreddit_Python.csv', index=False)"
   ]
  },
  {
   "cell_type": "code",
   "execution_count": 60,
   "metadata": {},
   "outputs": [],
   "source": [
    "df = pd.read_csv('./data/subreddit_Python.csv')"
   ]
  },
  {
   "cell_type": "code",
   "execution_count": 61,
   "metadata": {},
   "outputs": [
    {
     "data": {
      "text/html": [
       "<div>\n",
       "<style scoped>\n",
       "    .dataframe tbody tr th:only-of-type {\n",
       "        vertical-align: middle;\n",
       "    }\n",
       "\n",
       "    .dataframe tbody tr th {\n",
       "        vertical-align: top;\n",
       "    }\n",
       "\n",
       "    .dataframe thead th {\n",
       "        text-align: right;\n",
       "    }\n",
       "</style>\n",
       "<table border=\"1\" class=\"dataframe\">\n",
       "  <thead>\n",
       "    <tr style=\"text-align: right;\">\n",
       "      <th></th>\n",
       "      <th>comment</th>\n",
       "      <th>reply</th>\n",
       "      <th>subreddit</th>\n",
       "    </tr>\n",
       "  </thead>\n",
       "  <tbody>\n",
       "    <tr>\n",
       "      <th>0</th>\n",
       "      <td>I’ve been working on this [project](https://gi...</td>\n",
       "      <td>Looks really nice and clean! Have you by chanc...</td>\n",
       "      <td>Python</td>\n",
       "    </tr>\n",
       "    <tr>\n",
       "      <th>1</th>\n",
       "      <td>Automating some volunteer work. Ingesting audi...</td>\n",
       "      <td>No moviepy?\\n\\n(Just started playing with it i...</td>\n",
       "      <td>Python</td>\n",
       "    </tr>\n",
       "    <tr>\n",
       "      <th>2</th>\n",
       "      <td>Yes, in general:\\n\\n    object.method(...)\\n\\n...</td>\n",
       "      <td>Is there a specific case where it isn't?</td>\n",
       "      <td>Python</td>\n",
       "    </tr>\n",
       "    <tr>\n",
       "      <th>3</th>\n",
       "      <td>Very nice... I've loved python since the 90s b...</td>\n",
       "      <td>The more I use other languages, the more I rea...</td>\n",
       "      <td>Python</td>\n",
       "    </tr>\n",
       "    <tr>\n",
       "      <th>4</th>\n",
       "      <td>I am gonna try this, I need to start using lam...</td>\n",
       "      <td>I'm not sure how you went from OP showing how ...</td>\n",
       "      <td>Python</td>\n",
       "    </tr>\n",
       "  </tbody>\n",
       "</table>\n",
       "</div>"
      ],
      "text/plain": [
       "                                             comment  \\\n",
       "0  I’ve been working on this [project](https://gi...   \n",
       "1  Automating some volunteer work. Ingesting audi...   \n",
       "2  Yes, in general:\\n\\n    object.method(...)\\n\\n...   \n",
       "3  Very nice... I've loved python since the 90s b...   \n",
       "4  I am gonna try this, I need to start using lam...   \n",
       "\n",
       "                                               reply subreddit  \n",
       "0  Looks really nice and clean! Have you by chanc...    Python  \n",
       "1  No moviepy?\\n\\n(Just started playing with it i...    Python  \n",
       "2           Is there a specific case where it isn't?    Python  \n",
       "3  The more I use other languages, the more I rea...    Python  \n",
       "4  I'm not sure how you went from OP showing how ...    Python  "
      ]
     },
     "execution_count": 61,
     "metadata": {},
     "output_type": "execute_result"
    }
   ],
   "source": [
    "df.head()"
   ]
  },
  {
   "cell_type": "code",
   "execution_count": null,
   "metadata": {},
   "outputs": [],
   "source": []
  }
 ],
 "metadata": {
  "kernelspec": {
   "display_name": "Python 3",
   "language": "python",
   "name": "python3"
  },
  "language_info": {
   "codemirror_mode": {
    "name": "ipython",
    "version": 3
   },
   "file_extension": ".py",
   "mimetype": "text/x-python",
   "name": "python",
   "nbconvert_exporter": "python",
   "pygments_lexer": "ipython3",
   "version": "3.8.2"
  }
 },
 "nbformat": 4,
 "nbformat_minor": 4
}
